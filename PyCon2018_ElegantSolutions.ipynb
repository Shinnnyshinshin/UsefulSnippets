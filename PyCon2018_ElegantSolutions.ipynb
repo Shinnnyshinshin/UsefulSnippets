{
 "nbformat": 4,
 "nbformat_minor": 2,
 "metadata": {
  "language_info": {
   "name": "python",
   "codemirror_mode": {
    "name": "ipython",
    "version": 3
   },
   "version": "3.7.4-final"
  },
  "orig_nbformat": 2,
  "file_extension": ".py",
  "mimetype": "text/x-python",
  "name": "python",
  "npconvert_exporter": "python",
  "pygments_lexer": "ipython3",
  "version": 3,
  "kernelspec": {
   "name": "python37464bitanaconda3virtualenv05a7448584e24a0fadfd782122be17f9",
   "display_name": "Python 3.7.4 64-bit ('anaconda3': virtualenv)"
  }
 },
 "cells": [
  {
   "cell_type": "markdown",
   "metadata": {},
   "source": [
    "# Elegant Solutions To PyCon2018\n",
    "\n",
    "This just my attempt to learn a little bit more about 'better' ways to code. There was a great talk by Nina Zakharenko at PycCon2018 that I am reviewing and organizing into a Jupyter Notebook\n",
    "\n",
    "* [Link to Slides](https://www.slideshare.net/nnja/elegant-solutions-for-everyday-python-problems-pycon-2018)"
   ]
  },
  {
   "cell_type": "markdown",
   "metadata": {},
   "source": [
    "## Magic Methods\n",
    "\n",
    "* Magic methods start and end with a double underscore\n",
    "\n",
    "Why are they so cool? If you add them to your classes you can make your objects behave like built-ins. \n",
    "\n"
   ]
  },
  {
   "cell_type": "code",
   "execution_count": 6,
   "metadata": {},
   "outputs": [],
   "source": [
    "# Let's make a class\n",
    "\n",
    "\n",
    "class Money:\n",
    "    currency_rates = {\n",
    "        '$': 1,\n",
    "        '€': 0.91\n",
    "    }\n",
    "\n",
    "    def __init__(self, symbol, amount):\n",
    "        self.symbol = symbol\n",
    "        self.amount = amount\n",
    "    \n",
    "    def __str__(self):\n",
    "        return '%s%.2f' % (self.symbol, self.amount)\n",
    "\n",
    "    def convert(self, other)\n",
    "        \"\"\"\n",
    "\n",
    "        \"\"\""
   ]
  },
  {
   "cell_type": "code",
   "execution_count": 7,
   "metadata": {},
   "outputs": [
    {
     "output_type": "stream",
     "name": "stdout",
     "text": "$1.00\n"
    }
   ],
   "source": [
    "temp = Money('$',1)\n",
    "print(temp)\n",
    "\n"
   ]
  },
  {
   "cell_type": "code",
   "execution_count": null,
   "metadata": {},
   "outputs": [],
   "source": []
  }
 ]
}