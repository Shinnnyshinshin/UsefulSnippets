{
 "nbformat": 4,
 "nbformat_minor": 2,
 "metadata": {
  "language_info": {
   "name": "python",
   "codemirror_mode": {
    "name": "ipython",
    "version": 3
   },
   "version": "3.7.4-final"
  },
  "orig_nbformat": 2,
  "file_extension": ".py",
  "mimetype": "text/x-python",
  "name": "python",
  "npconvert_exporter": "python",
  "pygments_lexer": "ipython3",
  "version": 3,
  "kernelspec": {
   "name": "python37464bitanaconda3virtualenv05a7448584e24a0fadfd782122be17f9",
   "display_name": "Python 3.7.4 64-bit ('anaconda3': virtualenv)"
  }
 },
 "cells": [
  {
   "cell_type": "markdown",
   "metadata": {},
   "source": [
    "# Elegant Solutions To PyCon2018\n",
    "\n",
    "This just my attempt to learn a little bit more about 'better' ways to code. There was a great talk by Nina Zakharenko at PycCon2018 that I am reviewing and organizing into a Jupyter Notebook\n",
    "\n",
    "* [Link to Slides](https://www.slideshare.net/nnja/elegant-solutions-for-everyday-python-problems-pycon-2018)"
   ]
  },
  {
   "cell_type": "markdown",
   "metadata": {},
   "source": [
    "## Magic Methods\n",
    "\n",
    "* Magic methods start and end with a double underscore\n",
    "\n",
    "Why are they so cool? If you add them to your classes you can make your objects behave like built-ins. \n",
    "\n"
   ]
  },
  {
   "cell_type": "code",
   "execution_count": 1,
   "metadata": {},
   "outputs": [],
   "source": [
    "# Let's make a class\n",
    "\n",
    "\n",
    "class Money:\n",
    "    currency_rates = {\n",
    "        'USD': 1\n",
    "        'CAD': 1.40\n",
    "    }\n",
    "\n",
    "    def __init__(self, symbol, amount):\n",
    "        self.symbol = symbol\n",
    "        self.amount = amount\n",
    "    \n",
    "    def __str__(self):\n",
    "        return '%s%2.f' % (self.symbol, self.amount)\n",
    "\n",
    "    def convert(self, other):\n",
    "        \"\"\""
   ]
  },
  {
   "cell_type": "code",
   "execution_count": null,
   "metadata": {},
   "outputs": [],
   "source": []
  }
 ]
}