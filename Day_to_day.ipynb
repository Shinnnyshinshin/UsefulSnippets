{
 "nbformat": 4,
 "nbformat_minor": 2,
 "metadata": {
  "language_info": {
   "name": "python",
   "codemirror_mode": {
    "name": "ipython",
    "version": 3
   },
   "version": "3.7.4-final"
  },
  "orig_nbformat": 2,
  "file_extension": ".py",
  "mimetype": "text/x-python",
  "name": "python",
  "npconvert_exporter": "python",
  "pygments_lexer": "ipython3",
  "version": 3,
  "kernelspec": {
   "name": "python37464bitanaconda3virtualenv05a7448584e24a0fadfd782122be17f9",
   "display_name": "Python 3.7.4 64-bit ('anaconda3': virtualenv)"
  }
 },
 "cells": [
  {
   "cell_type": "markdown",
   "metadata": {},
   "source": [
    "# Useful Python Snippets\n",
    "\n",
    "This repositroay an"
   ]
  },
  {
   "cell_type": "markdown",
   "metadata": {},
   "source": [
    "1. Swap values between two variables\n",
    "In other languages, to swap values between two variables without using a third variable, we either have to use arithmetic operators or bitwise XOR. In Python, it is much simpler, as shown below."
   ]
  },
  {
   "cell_type": "code",
   "execution_count": 3,
   "metadata": {},
   "outputs": [
    {
     "output_type": "stream",
     "name": "stdout",
     "text": "10\n5\n"
    }
   ],
   "source": [
    "a = 5                               \n",
    "b = 10                                                                               \n",
    "a, b = b, a # this is the code snippet\n",
    "print(a) # 10                               \n",
    "print(b) # 5"
   ]
  },
  {
   "cell_type": "markdown",
   "metadata": {},
   "source": [
    "How do you update or crete items in a dictionary.  One of the tasks that I run into very often is this, which is essentially using the dictionary as a HashMap. \n",
    "\n",
    "1. Create a dictionary\n",
    "2. Go through a list and count the number of occurances of each item. "
   ]
  },
  {
   "cell_type": "code",
   "execution_count": 7,
   "metadata": {},
   "outputs": [
    {
     "output_type": "stream",
     "name": "stdout",
     "text": "{1: 1, 2: 3, 3: 3, 4: 1}\nCounter({2: 3, 3: 3, 1: 1, 4: 1})\n"
    }
   ],
   "source": [
    "# old way\n",
    "test_dict = {}\n",
    "test_list = [1, 2, 3, 2, 4, 3, 2, 3]\n",
    "\n",
    "# this is the old way. \n",
    "for item in test_list:\n",
    "    if item in test_dict.keys():\n",
    "        old_value = test_dict[item]\n",
    "        test_dict[item] = old_value + 1\n",
    "    else:\n",
    "        test_dict[item] = 1\n",
    "print(test_dict)\n",
    "\n",
    "\n",
    "# better way\n",
    "from collections import Counter\n",
    "better_dict = Counter(test_list)\n",
    "print(better_dict) # {2: 3, 3: 3, 1: 1, 4: 1}"
   ]
  },
  {
   "cell_type": "code",
   "execution_count": null,
   "metadata": {},
   "outputs": [],
   "source": []
  }
 ]
}