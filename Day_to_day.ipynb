{
 "nbformat": 4,
 "nbformat_minor": 2,
 "metadata": {
  "language_info": {
   "name": "python",
   "codemirror_mode": {
    "name": "ipython",
    "version": 3
   },
   "version": "3.7.4-final"
  },
  "orig_nbformat": 2,
  "file_extension": ".py",
  "mimetype": "text/x-python",
  "name": "python",
  "npconvert_exporter": "python",
  "pygments_lexer": "ipython3",
  "version": 3,
  "kernelspec": {
   "name": "python37464bitanaconda3virtualenv05a7448584e24a0fadfd782122be17f9",
   "display_name": "Python 3.7.4 64-bit ('anaconda3': virtualenv)"
  }
 },
 "cells": [
  {
   "cell_type": "markdown",
   "metadata": {},
   "source": [
    "# Useful Python Snippets\n",
    "\n",
    "This repository will contain little snippets that can either make code faster, more efficient, or both"
   ]
  },
  {
   "cell_type": "markdown",
   "metadata": {},
   "source": [
    "1. Swap values between two variables\n",
    "In other languages, to swap values between two variables without using a third variable, we either have to use arithmetic operators or bitwise XOR. In Python, it is much simpler, as shown below."
   ]
  },
  {
   "cell_type": "code",
   "execution_count": 3,
   "metadata": {},
   "outputs": [
    {
     "output_type": "stream",
     "name": "stdout",
     "text": "10\n5\n"
    }
   ],
   "source": [
    "a = 5                               \n",
    "b = 10                                                                               \n",
    "a, b = b, a # this is the code snippet\n",
    "print(a) # 10                               \n",
    "print(b) # 5"
   ]
  },
  {
   "cell_type": "markdown",
   "metadata": {},
   "source": [
    "How do you update or crete items in a dictionary.  One of the tasks that I run into very often is this, which is essentially using the dictionary as a HashMap. \n",
    "\n",
    "1. Create a dictionary\n",
    "2. Go through a list and count the number of occurances of each item. "
   ]
  },
  {
   "cell_type": "code",
   "execution_count": 7,
   "metadata": {},
   "outputs": [
    {
     "output_type": "stream",
     "name": "stdout",
     "text": "{1: 1, 2: 3, 3: 3, 4: 1}\nCounter({2: 3, 3: 3, 1: 1, 4: 1})\n"
    }
   ],
   "source": [
    "# old way\n",
    "test_dict = {}\n",
    "test_list = [1, 2, 3, 2, 4, 3, 2, 3]\n",
    "\n",
    "# this is the old way. \n",
    "for item in test_list:\n",
    "    if item in test_dict.keys():\n",
    "        old_value = test_dict[item]\n",
    "        test_dict[item] = old_value + 1\n",
    "    else:\n",
    "        test_dict[item] = 1\n",
    "print(test_dict)\n",
    "\n",
    "\n",
    "# better way\n",
    "from collections import Counter\n",
    "better_dict = Counter(test_list)\n",
    "print(better_dict) # {2: 3, 3: 3, 1: 1, 4: 1}"
   ]
  },
  {
   "cell_type": "markdown",
   "metadata": {},
   "source": [
    "## Ways to make code faster\n",
    "\n",
    "This code is based off a great Towards Data Science [POst]()"
   ]
  },
  {
   "cell_type": "code",
   "execution_count": 1,
   "metadata": {},
   "outputs": [],
   "source": [
    "import time\n",
    "def compute_speedup(slow_func, opt_func, func_name, tp=None):\n",
    "  x = range(int(1e5))\n",
    "  if tp: x = list(map(tp, x))\n",
    "  slow_start = time.time()\n",
    "  slow_func(x)\n",
    "  slow_end = time.time()\n",
    "  slow_time = slow_end - slow_start\n",
    "  opt_start = time.time()\n",
    "  opt_func(x)\n",
    "  opt_end = time.time()\n",
    "  opt_time = opt_end - opt_start\n",
    "  speedup = slow_time/opt_time\n",
    "  print('{} speedup: {}'.format(func_name, speedup))"
   ]
  },
  {
   "cell_type": "markdown",
   "metadata": {},
   "source": [
    "### Joining\n",
    "\n",
    "* Here is motivation to not use \"\" +, but to use the \"\".join()\n",
    "\n"
   ]
  },
  {
   "cell_type": "code",
   "execution_count": 2,
   "metadata": {},
   "outputs": [],
   "source": [
    "def slow_join(x):\n",
    "  s = ''\n",
    "  for n in x:\n",
    "    s += n"
   ]
  },
  {
   "cell_type": "code",
   "execution_count": 3,
   "metadata": {},
   "outputs": [],
   "source": [
    "def opt_join(x):\n",
    "  s = ''.join(x)"
   ]
  },
  {
   "cell_type": "code",
   "execution_count": 4,
   "metadata": {},
   "outputs": [
    {
     "output_type": "stream",
     "name": "stdout",
     "text": "join speedup: 12.724391624221845\n"
    }
   ],
   "source": [
    "compute_speedup(slow_join, opt_join, 'join', tp=str)\n",
    ""
   ]
  },
  {
   "cell_type": "markdown",
   "metadata": {},
   "source": [
    "### Map\n",
    "* We can do it using generator comprehention (generate a generator), or to generate a map, where you can apply a function to every item in x"
   ]
  },
  {
   "cell_type": "code",
   "execution_count": 9,
   "metadata": {},
   "outputs": [],
   "source": [
    "def slow_map(x):\n",
    "  l = (str(n) for n in x)\n",
    "  # you are taking all the items in a list, and turning them into a str\n",
    "  for n in l:\n",
    "    pass"
   ]
  },
  {
   "cell_type": "code",
   "execution_count": 11,
   "metadata": {},
   "outputs": [],
   "source": [
    "def opt_map(x):\n",
    "  l = map(str, x) # are passing the function, and you are applying the function to every item in x\n",
    "  for n in l:\n",
    "    pass"
   ]
  },
  {
   "cell_type": "code",
   "execution_count": 8,
   "metadata": {},
   "outputs": [
    {
     "output_type": "stream",
     "name": "stdout",
     "text": "map speedup: 1.9191084034426071\n"
    }
   ],
   "source": [
    "compute_speedup(slow_map, opt_map, 'map')\n",
    ""
   ]
  },
  {
   "cell_type": "markdown",
   "metadata": {},
   "source": [
    "### Re-evaluating Functions\n",
    "\n",
    "```\n",
    "y = []\n",
    "for n in x:\n",
    "    y.append(n)\n",
    "    y.append(n**2)\n",
    "    y.append(n**3)\n",
    "```\n"
   ]
  },
  {
   "cell_type": "code",
   "execution_count": 13,
   "metadata": {},
   "outputs": [],
   "source": [
    "def slow_loop(x):\n",
    "  y = []\n",
    "  for n in x:\n",
    "    y.append(n)"
   ]
  },
  {
   "cell_type": "code",
   "execution_count": 14,
   "metadata": {},
   "outputs": [],
   "source": [
    "def opt_loop(x):\n",
    "  y = []\n",
    "  append = y.append # storing the function as a variable\n",
    "  for n in x:\n",
    "    append(n) # you are using the stored variable"
   ]
  },
  {
   "cell_type": "code",
   "execution_count": 15,
   "metadata": {},
   "outputs": [
    {
     "output_type": "stream",
     "name": "stdout",
     "text": "loop speedup: 1.67519218858163\n"
    }
   ],
   "source": [
    "compute_speedup(slow_loop, opt_loop, 'loop')\n",
    ""
   ]
  },
  {
   "cell_type": "code",
   "execution_count": null,
   "metadata": {},
   "outputs": [],
   "source": []
  }
 ]
}